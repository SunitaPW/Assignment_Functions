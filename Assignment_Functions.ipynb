{
  "nbformat": 4,
  "nbformat_minor": 0,
  "metadata": {
    "colab": {
      "provenance": []
    },
    "kernelspec": {
      "name": "python3",
      "display_name": "Python 3"
    },
    "language_info": {
      "name": "python"
    }
  },
  "cells": [
    {
      "cell_type": "markdown",
      "source": [
        "Answer 1 :- Write a Python function that takes a list of numbers as input and returns the sum of all even numbers in\n",
        "the list"
      ],
      "metadata": {
        "id": "MU6LFNK8nEnk"
      }
    },
    {
      "cell_type": "code",
      "source": [
        "# Created a empty list:\n",
        "num_list = []\n",
        "\n",
        "def even_sum_list(num_list):\n",
        "  num = 0\n",
        "  for i in num_list:\n",
        "\n",
        "# This is to check the even number:\n",
        "    if i % 2 == 0:\n",
        "      num += i\n",
        "  return num"
      ],
      "metadata": {
        "id": "Mv3bdChXnEWd"
      },
      "execution_count": null,
      "outputs": []
    },
    {
      "cell_type": "code",
      "source": [
        "num_list = [1, 2, 3, 4, 55, 6, 76, 8, 96, 10, 11, 15, 30]\n",
        "even_sum_list(num_list)"
      ],
      "metadata": {
        "colab": {
          "base_uri": "https://localhost:8080/"
        },
        "id": "DzqqBq4UnEDN",
        "outputId": "231a61af-8e6b-40f0-c0e4-3d35558152a0"
      },
      "execution_count": null,
      "outputs": [
        {
          "output_type": "execute_result",
          "data": {
            "text/plain": [
              "232"
            ]
          },
          "metadata": {},
          "execution_count": 21
        }
      ]
    },
    {
      "cell_type": "markdown",
      "source": [
        "Answer 2 :- Creating a  Python function that accepts a string and returns the reverse of that string."
      ],
      "metadata": {
        "id": "_M68y0vKjBR8"
      }
    },
    {
      "cell_type": "code",
      "source": [
        "# Use lambda with slicing- [start:end:step] function to get reverse of string\n",
        "x =[]\n",
        "reverse_string = (lambda x: x[::-1])"
      ],
      "metadata": {
        "id": "vRqzH4PtjA7a"
      },
      "execution_count": null,
      "outputs": []
    },
    {
      "cell_type": "code",
      "source": [
        "x = \"apple\"\n",
        "reverse_string(x)"
      ],
      "metadata": {
        "colab": {
          "base_uri": "https://localhost:8080/",
          "height": 35
        },
        "id": "rNkagj_5jA4E",
        "outputId": "443af14e-3778-4cb9-cfd7-7f0e049ec59a"
      },
      "execution_count": null,
      "outputs": [
        {
          "output_type": "execute_result",
          "data": {
            "text/plain": [
              "'elppa'"
            ],
            "application/vnd.google.colaboratory.intrinsic+json": {
              "type": "string"
            }
          },
          "metadata": {},
          "execution_count": 16
        }
      ]
    },
    {
      "cell_type": "code",
      "source": [
        "x = \"Data Analyst\"\n",
        "reverse_string(x)"
      ],
      "metadata": {
        "colab": {
          "base_uri": "https://localhost:8080/",
          "height": 35
        },
        "id": "-LpOs98HjAaB",
        "outputId": "0ca48105-0b8c-41a5-e722-449047e4e341"
      },
      "execution_count": null,
      "outputs": [
        {
          "output_type": "execute_result",
          "data": {
            "text/plain": [
              "'tsylanA ataD'"
            ],
            "application/vnd.google.colaboratory.intrinsic+json": {
              "type": "string"
            }
          },
          "metadata": {},
          "execution_count": 17
        }
      ]
    },
    {
      "cell_type": "markdown",
      "source": [
        " Answer 3 :- Python function that takes a list of integers and returns a new list containing the squares of each number."
      ],
      "metadata": {
        "id": "oQm11r7Dlx5r"
      }
    },
    {
      "cell_type": "code",
      "source": [
        "def square_numbers(x):\n",
        "  result = []\n",
        "  for i in (x):\n",
        "    result.append(i**2)\n",
        "  return result\n"
      ],
      "metadata": {
        "id": "9eo9l0ObhXrD"
      },
      "execution_count": null,
      "outputs": []
    },
    {
      "cell_type": "code",
      "source": [
        "square_numbers([2, 5, 10, 15, 20])"
      ],
      "metadata": {
        "colab": {
          "base_uri": "https://localhost:8080/"
        },
        "id": "4eTF4lQllxWl",
        "outputId": "77c8e738-d660-4ac0-e431-b07d7a6db717"
      },
      "execution_count": null,
      "outputs": [
        {
          "output_type": "execute_result",
          "data": {
            "text/plain": [
              "[4, 25, 100, 225, 400]"
            ]
          },
          "metadata": {},
          "execution_count": 16
        }
      ]
    },
    {
      "cell_type": "markdown",
      "source": [
        "Answer 4 :- Python function that checks if a given number is prime or not from 1 to 200."
      ],
      "metadata": {
        "id": "oCOb0gYapwYu"
      }
    },
    {
      "cell_type": "code",
      "source": [
        "prime_list = range(1, 201)\n",
        "num = []\n",
        "\n",
        "prime_num = lambda num: num > 1 and all(num % i != 0 for i in range(2, int(num**0.5) + 1))\n",
        "\n",
        "for number in prime_list:\n",
        "    if prime_num(number):\n",
        "        print(f\"{number} is prime\")\n",
        "    else:\n",
        "        print(f\"{number} is not prime\")\n"
      ],
      "metadata": {
        "id": "c-jNfBUHlsjx",
        "colab": {
          "base_uri": "https://localhost:8080/"
        },
        "outputId": "fc525ad8-0760-41ed-c207-77cf2f7934e3"
      },
      "execution_count": null,
      "outputs": [
        {
          "output_type": "stream",
          "name": "stdout",
          "text": [
            "1 is not prime\n",
            "2 is prime\n",
            "3 is prime\n",
            "4 is not prime\n",
            "5 is prime\n",
            "6 is not prime\n",
            "7 is prime\n",
            "8 is not prime\n",
            "9 is not prime\n",
            "10 is not prime\n",
            "11 is prime\n",
            "12 is not prime\n",
            "13 is prime\n",
            "14 is not prime\n",
            "15 is not prime\n",
            "16 is not prime\n",
            "17 is prime\n",
            "18 is not prime\n",
            "19 is prime\n",
            "20 is not prime\n",
            "21 is not prime\n",
            "22 is not prime\n",
            "23 is prime\n",
            "24 is not prime\n",
            "25 is not prime\n",
            "26 is not prime\n",
            "27 is not prime\n",
            "28 is not prime\n",
            "29 is prime\n",
            "30 is not prime\n",
            "31 is prime\n",
            "32 is not prime\n",
            "33 is not prime\n",
            "34 is not prime\n",
            "35 is not prime\n",
            "36 is not prime\n",
            "37 is prime\n",
            "38 is not prime\n",
            "39 is not prime\n",
            "40 is not prime\n",
            "41 is prime\n",
            "42 is not prime\n",
            "43 is prime\n",
            "44 is not prime\n",
            "45 is not prime\n",
            "46 is not prime\n",
            "47 is prime\n",
            "48 is not prime\n",
            "49 is not prime\n",
            "50 is not prime\n",
            "51 is not prime\n",
            "52 is not prime\n",
            "53 is prime\n",
            "54 is not prime\n",
            "55 is not prime\n",
            "56 is not prime\n",
            "57 is not prime\n",
            "58 is not prime\n",
            "59 is prime\n",
            "60 is not prime\n",
            "61 is prime\n",
            "62 is not prime\n",
            "63 is not prime\n",
            "64 is not prime\n",
            "65 is not prime\n",
            "66 is not prime\n",
            "67 is prime\n",
            "68 is not prime\n",
            "69 is not prime\n",
            "70 is not prime\n",
            "71 is prime\n",
            "72 is not prime\n",
            "73 is prime\n",
            "74 is not prime\n",
            "75 is not prime\n",
            "76 is not prime\n",
            "77 is not prime\n",
            "78 is not prime\n",
            "79 is prime\n",
            "80 is not prime\n",
            "81 is not prime\n",
            "82 is not prime\n",
            "83 is prime\n",
            "84 is not prime\n",
            "85 is not prime\n",
            "86 is not prime\n",
            "87 is not prime\n",
            "88 is not prime\n",
            "89 is prime\n",
            "90 is not prime\n",
            "91 is not prime\n",
            "92 is not prime\n",
            "93 is not prime\n",
            "94 is not prime\n",
            "95 is not prime\n",
            "96 is not prime\n",
            "97 is prime\n",
            "98 is not prime\n",
            "99 is not prime\n",
            "100 is not prime\n",
            "101 is prime\n",
            "102 is not prime\n",
            "103 is prime\n",
            "104 is not prime\n",
            "105 is not prime\n",
            "106 is not prime\n",
            "107 is prime\n",
            "108 is not prime\n",
            "109 is prime\n",
            "110 is not prime\n",
            "111 is not prime\n",
            "112 is not prime\n",
            "113 is prime\n",
            "114 is not prime\n",
            "115 is not prime\n",
            "116 is not prime\n",
            "117 is not prime\n",
            "118 is not prime\n",
            "119 is not prime\n",
            "120 is not prime\n",
            "121 is not prime\n",
            "122 is not prime\n",
            "123 is not prime\n",
            "124 is not prime\n",
            "125 is not prime\n",
            "126 is not prime\n",
            "127 is prime\n",
            "128 is not prime\n",
            "129 is not prime\n",
            "130 is not prime\n",
            "131 is prime\n",
            "132 is not prime\n",
            "133 is not prime\n",
            "134 is not prime\n",
            "135 is not prime\n",
            "136 is not prime\n",
            "137 is prime\n",
            "138 is not prime\n",
            "139 is prime\n",
            "140 is not prime\n",
            "141 is not prime\n",
            "142 is not prime\n",
            "143 is not prime\n",
            "144 is not prime\n",
            "145 is not prime\n",
            "146 is not prime\n",
            "147 is not prime\n",
            "148 is not prime\n",
            "149 is prime\n",
            "150 is not prime\n",
            "151 is prime\n",
            "152 is not prime\n",
            "153 is not prime\n",
            "154 is not prime\n",
            "155 is not prime\n",
            "156 is not prime\n",
            "157 is prime\n",
            "158 is not prime\n",
            "159 is not prime\n",
            "160 is not prime\n",
            "161 is not prime\n",
            "162 is not prime\n",
            "163 is prime\n",
            "164 is not prime\n",
            "165 is not prime\n",
            "166 is not prime\n",
            "167 is prime\n",
            "168 is not prime\n",
            "169 is not prime\n",
            "170 is not prime\n",
            "171 is not prime\n",
            "172 is not prime\n",
            "173 is prime\n",
            "174 is not prime\n",
            "175 is not prime\n",
            "176 is not prime\n",
            "177 is not prime\n",
            "178 is not prime\n",
            "179 is prime\n",
            "180 is not prime\n",
            "181 is prime\n",
            "182 is not prime\n",
            "183 is not prime\n",
            "184 is not prime\n",
            "185 is not prime\n",
            "186 is not prime\n",
            "187 is not prime\n",
            "188 is not prime\n",
            "189 is not prime\n",
            "190 is not prime\n",
            "191 is prime\n",
            "192 is not prime\n",
            "193 is prime\n",
            "194 is not prime\n",
            "195 is not prime\n",
            "196 is not prime\n",
            "197 is prime\n",
            "198 is not prime\n",
            "199 is prime\n",
            "200 is not prime\n"
          ]
        }
      ]
    },
    {
      "cell_type": "markdown",
      "source": [
        "Answer 5 :- Created an iterator class in Python that generates the Fibonacci sequence up to a specified number of\n",
        "terms."
      ],
      "metadata": {
        "id": "y6kKWGt1rxPq"
      }
    },
    {
      "cell_type": "code",
      "source": [
        "def iter_fib(x):\n",
        "    a = 0\n",
        "    b = 1\n",
        "    for i in range(x):\n",
        "        yield a\n",
        "        a, b = b, a+b"
      ],
      "metadata": {
        "id": "x6B8tw_OrPmn"
      },
      "execution_count": null,
      "outputs": []
    },
    {
      "cell_type": "code",
      "source": [
        "iter_fib(50)"
      ],
      "metadata": {
        "colab": {
          "base_uri": "https://localhost:8080/"
        },
        "id": "xBqy3ibmsP4i",
        "outputId": "9e6b64d6-50b3-43d9-9064-93c79748ef35"
      },
      "execution_count": null,
      "outputs": [
        {
          "output_type": "execute_result",
          "data": {
            "text/plain": [
              "<generator object iter_fib at 0x7ba789d93c30>"
            ]
          },
          "metadata": {},
          "execution_count": 116
        }
      ]
    },
    {
      "cell_type": "code",
      "source": [
        "f = iter_fib(10)"
      ],
      "metadata": {
        "id": "AR1oglKXsY7G"
      },
      "execution_count": null,
      "outputs": []
    },
    {
      "cell_type": "code",
      "source": [
        "next(f)"
      ],
      "metadata": {
        "colab": {
          "base_uri": "https://localhost:8080/"
        },
        "id": "ajpD4VtDsRwT",
        "outputId": "a7f405f2-6256-4f5b-c976-99cf89bf8ac6"
      },
      "execution_count": null,
      "outputs": [
        {
          "output_type": "execute_result",
          "data": {
            "text/plain": [
              "0"
            ]
          },
          "metadata": {},
          "execution_count": 118
        }
      ]
    },
    {
      "cell_type": "code",
      "source": [
        "next(f)"
      ],
      "metadata": {
        "colab": {
          "base_uri": "https://localhost:8080/"
        },
        "id": "JONnRwWpsVz-",
        "outputId": "9b9b291e-9301-4769-cd31-94ec6b3fcb00"
      },
      "execution_count": null,
      "outputs": [
        {
          "output_type": "execute_result",
          "data": {
            "text/plain": [
              "1"
            ]
          },
          "metadata": {},
          "execution_count": 67
        }
      ]
    },
    {
      "cell_type": "code",
      "source": [
        "next(f)"
      ],
      "metadata": {
        "colab": {
          "base_uri": "https://localhost:8080/"
        },
        "id": "t1NPYFVksfDj",
        "outputId": "f4a3e73e-9d1f-468f-c79d-b149c9abe7af"
      },
      "execution_count": null,
      "outputs": [
        {
          "output_type": "execute_result",
          "data": {
            "text/plain": [
              "1"
            ]
          },
          "metadata": {},
          "execution_count": 68
        }
      ]
    },
    {
      "cell_type": "code",
      "source": [
        "next(f)"
      ],
      "metadata": {
        "colab": {
          "base_uri": "https://localhost:8080/"
        },
        "id": "rbIqVnkds60y",
        "outputId": "56757991-f50e-4f25-f661-3aabff81f58d"
      },
      "execution_count": null,
      "outputs": [
        {
          "output_type": "execute_result",
          "data": {
            "text/plain": [
              "2"
            ]
          },
          "metadata": {},
          "execution_count": 69
        }
      ]
    },
    {
      "cell_type": "code",
      "source": [
        "next(f)"
      ],
      "metadata": {
        "colab": {
          "base_uri": "https://localhost:8080/"
        },
        "id": "guvP0t_8s87v",
        "outputId": "695aa6d2-ae00-4dbf-e0c0-70bb6ae1fa70"
      },
      "execution_count": null,
      "outputs": [
        {
          "output_type": "execute_result",
          "data": {
            "text/plain": [
              "3"
            ]
          },
          "metadata": {},
          "execution_count": 70
        }
      ]
    },
    {
      "cell_type": "code",
      "source": [
        "next(f)"
      ],
      "metadata": {
        "colab": {
          "base_uri": "https://localhost:8080/"
        },
        "id": "jRSxC3Xfs96i",
        "outputId": "c4d2e77e-3276-4aaa-da73-7babbfafcfcf"
      },
      "execution_count": null,
      "outputs": [
        {
          "output_type": "execute_result",
          "data": {
            "text/plain": [
              "5"
            ]
          },
          "metadata": {},
          "execution_count": 71
        }
      ]
    },
    {
      "cell_type": "code",
      "source": [
        "next(f)"
      ],
      "metadata": {
        "colab": {
          "base_uri": "https://localhost:8080/"
        },
        "id": "OyeR7Gq7tl7B",
        "outputId": "5ac17056-3d76-44f2-801f-b41b6008e015"
      },
      "execution_count": null,
      "outputs": [
        {
          "output_type": "execute_result",
          "data": {
            "text/plain": [
              "8"
            ]
          },
          "metadata": {},
          "execution_count": 72
        }
      ]
    },
    {
      "cell_type": "markdown",
      "source": [
        "Answer 6 :- Generator function in Python that yields the powers of 2 up to a given exponent."
      ],
      "metadata": {
        "id": "62chFNcGI7O4"
      }
    },
    {
      "cell_type": "code",
      "source": [
        "def square_number_generator(b):\n",
        "    for i in range(b):\n",
        "        yield i **2"
      ],
      "metadata": {
        "id": "BCOlwqLzI667"
      },
      "execution_count": null,
      "outputs": []
    },
    {
      "cell_type": "code",
      "source": [
        "square_number_generator(6)"
      ],
      "metadata": {
        "colab": {
          "base_uri": "https://localhost:8080/"
        },
        "id": "IgsJ2uXeKw0k",
        "outputId": "07dba407-da11-4ec1-d1ac-6c2cf8c93d33"
      },
      "execution_count": null,
      "outputs": [
        {
          "output_type": "execute_result",
          "data": {
            "text/plain": [
              "<generator object square_number_generator at 0x7ba789c00350>"
            ]
          },
          "metadata": {},
          "execution_count": 146
        }
      ]
    },
    {
      "cell_type": "code",
      "source": [
        "gen = square_number_generator(6)\n",
        "gen"
      ],
      "metadata": {
        "colab": {
          "base_uri": "https://localhost:8080/"
        },
        "id": "u5FJVoK1J0wH",
        "outputId": "51ee19bd-33c2-43a0-9e46-1a3f785eeefc"
      },
      "execution_count": null,
      "outputs": [
        {
          "output_type": "execute_result",
          "data": {
            "text/plain": [
              "<generator object square_number_generator at 0x7ba789c00ac0>"
            ]
          },
          "metadata": {},
          "execution_count": 147
        }
      ]
    },
    {
      "cell_type": "code",
      "source": [
        "next(gen)"
      ],
      "metadata": {
        "colab": {
          "base_uri": "https://localhost:8080/"
        },
        "id": "jEvhjP4mI60d",
        "outputId": "beb58cb8-ffdd-4992-eb7a-fd86e58fa598"
      },
      "execution_count": null,
      "outputs": [
        {
          "output_type": "execute_result",
          "data": {
            "text/plain": [
              "0"
            ]
          },
          "metadata": {},
          "execution_count": 148
        }
      ]
    },
    {
      "cell_type": "code",
      "source": [
        "next(gen)"
      ],
      "metadata": {
        "colab": {
          "base_uri": "https://localhost:8080/"
        },
        "id": "mCFqY0D8LMUI",
        "outputId": "0698ca26-a7d1-4b6a-920f-9cc1437975ac"
      },
      "execution_count": null,
      "outputs": [
        {
          "output_type": "execute_result",
          "data": {
            "text/plain": [
              "1"
            ]
          },
          "metadata": {},
          "execution_count": 149
        }
      ]
    },
    {
      "cell_type": "code",
      "source": [
        "next(gen)"
      ],
      "metadata": {
        "colab": {
          "base_uri": "https://localhost:8080/"
        },
        "id": "E43gqFaPLMKW",
        "outputId": "9669344a-a429-4047-fd05-3cb1b19dde2f"
      },
      "execution_count": null,
      "outputs": [
        {
          "output_type": "execute_result",
          "data": {
            "text/plain": [
              "4"
            ]
          },
          "metadata": {},
          "execution_count": 150
        }
      ]
    },
    {
      "cell_type": "code",
      "source": [
        "next(gen)"
      ],
      "metadata": {
        "colab": {
          "base_uri": "https://localhost:8080/"
        },
        "id": "ncSDGlzTLMHB",
        "outputId": "0a6674a1-8147-4ba2-ba75-eb16a8f7b350"
      },
      "execution_count": null,
      "outputs": [
        {
          "output_type": "execute_result",
          "data": {
            "text/plain": [
              "9"
            ]
          },
          "metadata": {},
          "execution_count": 151
        }
      ]
    },
    {
      "cell_type": "code",
      "source": [
        "next(gen)"
      ],
      "metadata": {
        "colab": {
          "base_uri": "https://localhost:8080/"
        },
        "id": "QoGZxvpeLMA6",
        "outputId": "524aaf09-4fa6-4685-e729-88aadc35176c"
      },
      "execution_count": null,
      "outputs": [
        {
          "output_type": "execute_result",
          "data": {
            "text/plain": [
              "16"
            ]
          },
          "metadata": {},
          "execution_count": 152
        }
      ]
    },
    {
      "cell_type": "code",
      "source": [
        "next(gen)"
      ],
      "metadata": {
        "colab": {
          "base_uri": "https://localhost:8080/"
        },
        "id": "U_y4yegWLWII",
        "outputId": "b98dd743-148a-4b85-9975-47641194ec5d"
      },
      "execution_count": null,
      "outputs": [
        {
          "output_type": "execute_result",
          "data": {
            "text/plain": [
              "25"
            ]
          },
          "metadata": {},
          "execution_count": 153
        }
      ]
    },
    {
      "cell_type": "markdown",
      "source": [
        "Answer 7 :-  A generator function that reads a file line by line and yields each line as a string."
      ],
      "metadata": {
        "id": "zgYli5RnLr_u"
      }
    },
    {
      "cell_type": "code",
      "source": [
        "def read_lines(filename):\n",
        "    with open(filename, 'r') as file:\n",
        "        yield from (line.rstrip('\\n') for line in file)"
      ],
      "metadata": {
        "id": "SJMPgKpuXxkZ"
      },
      "execution_count": 77,
      "outputs": []
    },
    {
      "cell_type": "code",
      "source": [
        "filename = 'assignment.txt'\n",
        "for line in read_lines(filename):\n",
        "    print(line)"
      ],
      "metadata": {
        "id": "eNurU-yTXxDj"
      },
      "execution_count": 83,
      "outputs": []
    },
    {
      "cell_type": "markdown",
      "source": [
        "Answer 8 :- lambda function in Python to sort a list of tuples based on the second element of each tuple."
      ],
      "metadata": {
        "id": "uC5VuPBeAe7M"
      }
    },
    {
      "cell_type": "code",
      "source": [
        "t_list = [(1, 9), (6, 4), (5, 2), (7, 3), (8, 10)]\n",
        "sorted(t_list, key = lambda t_list : t_list[1])\n"
      ],
      "metadata": {
        "id": "vufbOjmkMtcW",
        "colab": {
          "base_uri": "https://localhost:8080/"
        },
        "outputId": "9ac073ee-d9d9-4ae7-cddf-7aa6aced507a"
      },
      "execution_count": 22,
      "outputs": [
        {
          "output_type": "execute_result",
          "data": {
            "text/plain": [
              "[(5, 2), (7, 3), (6, 4), (1, 9), (8, 10)]"
            ]
          },
          "metadata": {},
          "execution_count": 22
        }
      ]
    },
    {
      "cell_type": "markdown",
      "source": [
        "Answer 9 :- Python program that uses map() to convert a list of temperatures from Celsius to Fahrenheit."
      ],
      "metadata": {
        "id": "Pps9s_LqDr-Y"
      }
    },
    {
      "cell_type": "code",
      "source": [
        "# Created a list of celsius temperature:-\n",
        "cel_temp = [10, 20, 30, 40, 45]\n",
        "\n",
        "# convert celsius to fahrenheit with (celsius * 9/5) + 32} Fahrenheit :-\n",
        "fahr_temp = list(map(lambda x: (x * 9/5) + 32, cel_temp))\n",
        "\n",
        "# print the temperature from celsius to fahrehheit\n",
        "print(cel_temp)\n",
        "print(fahr_temp)\n"
      ],
      "metadata": {
        "colab": {
          "base_uri": "https://localhost:8080/"
        },
        "id": "x5tbGJIK-ks0",
        "outputId": "287dbc5d-5b72-4daa-c495-39b75ee8ebe4"
      },
      "execution_count": 30,
      "outputs": [
        {
          "output_type": "stream",
          "name": "stdout",
          "text": [
            "[10, 20, 30, 40, 45]\n",
            "[50.0, 68.0, 86.0, 104.0, 113.0]\n"
          ]
        }
      ]
    },
    {
      "cell_type": "markdown",
      "source": [
        "Answer 10 :- Python program that uses filter() to remove all the vowels from a given string."
      ],
      "metadata": {
        "id": "y0M3nFQjK_jk"
      }
    },
    {
      "cell_type": "code",
      "source": [
        "str_list = \"Hello world, How are you?\"\n",
        "\n",
        "vowel_list = \"aeiouAEIOU\"\n",
        "\n",
        "vowels = (filter(lambda str_list: str_list not in vowel_list, str_list))\n",
        "\n",
        "print(''.join(vowels))"
      ],
      "metadata": {
        "colab": {
          "base_uri": "https://localhost:8080/"
        },
        "id": "B-OFuDxWM3Ia",
        "outputId": "9f67ae1c-5bef-4c33-fd86-566849a67305"
      },
      "execution_count": 39,
      "outputs": [
        {
          "output_type": "stream",
          "name": "stdout",
          "text": [
            "Hll wrld, Hw r y?\n"
          ]
        }
      ]
    },
    {
      "cell_type": "markdown",
      "source": [
        "Answer 11 :- Python program, which returns a list with 2-tuples. Each tuple consists of the order number and the\n",
        "product of the price per item and the quantity. The product should be increased by 10, if the value of the\n",
        "order is smaller than 100."
      ],
      "metadata": {
        "id": "fU1P4VLcOKJn"
      }
    },
    {
      "cell_type": "code",
      "source": [
        "order_numbers = [34587, 98762, 77226, 88112]\n",
        "book_authors = [\"learning python by mark lutz\", \"programming python by mark lutz\", \"head first python by paul barry\", \"einfuhrung in python by bernd klein\"]\n",
        "quantities = [4, 5, 3, 3]\n",
        "prices_per_item = [40.95, 56.80, 32.95, 24.99]\n",
        "\n",
        "# Calculated total price for each order using map and lambda\n",
        "total_price = list(map(lambda q, p: q * p, quantities, prices_per_item))\n",
        "\n",
        "# manage total price if less than 100 using map and lambda\n",
        "total_price = list(map(lambda x: x + 10 if x < 100 else x, total_price))\n",
        "\n",
        "# Combined the order numbers with total price using zip\n",
        "result = list(zip(order_numbers, total_price))\n",
        "\n",
        "print(result)\n"
      ],
      "metadata": {
        "colab": {
          "base_uri": "https://localhost:8080/"
        },
        "id": "536LkVOwYmIg",
        "outputId": "e94c8e41-20c4-42d2-f8f2-0d3e58913507"
      },
      "execution_count": 74,
      "outputs": [
        {
          "output_type": "stream",
          "name": "stdout",
          "text": [
            "[(34587, 163.8), (98762, 284.0), (77226, 108.85000000000001), (88112, 84.97)]\n"
          ]
        }
      ]
    },
    {
      "cell_type": "code",
      "source": [],
      "metadata": {
        "id": "raFoSN1NZBQA"
      },
      "execution_count": null,
      "outputs": []
    }
  ]
}